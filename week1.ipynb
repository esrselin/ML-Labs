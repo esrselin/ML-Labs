{
 "cells": [
  {
   "cell_type": "code",
   "execution_count": 1,
   "id": "139b3619",
   "metadata": {},
   "outputs": [],
   "source": [
    "var1=5\n",
    "var2=50\n",
    "var3=20"
   ]
  },
  {
   "cell_type": "code",
   "execution_count": 12,
   "id": "d382aa93",
   "metadata": {},
   "outputs": [
    {
     "data": {
      "text/plain": [
       "list"
      ]
     },
     "execution_count": 12,
     "metadata": {},
     "output_type": "execute_result"
    }
   ],
   "source": [
    "list=[2,4,6,8]\n",
    "type(list)"
   ]
  },
  {
   "cell_type": "code",
   "execution_count": 3,
   "id": "75693a28",
   "metadata": {},
   "outputs": [
    {
     "data": {
      "text/plain": [
       "list"
      ]
     },
     "execution_count": 3,
     "metadata": {},
     "output_type": "execute_result"
    }
   ],
   "source": [
    "lists=[\"a\",\"b\",\"c\"]\n",
    "type(lists)"
   ]
  },
  {
   "cell_type": "code",
   "execution_count": 4,
   "id": "724e39b2",
   "metadata": {},
   "outputs": [
    {
     "name": "stdout",
     "output_type": "stream",
     "text": [
      "4\n",
      "['apple', 'banana', 'strawberry', 'mango', 'orange']\n",
      "apple\n",
      "banana\n",
      "strawberry\n",
      "['apple', 'strawberry', 'mango', 'orange']\n",
      "['apple', 'strawberry', 'mango']\n",
      "['apple', 'strawberry']\n",
      "['c', 'python', 'assembly', 'java']\n",
      "['c', 'python', 'assembly', 'java', 'c#', 'html', 'css', 'php']\n",
      "1\n",
      "['assembly', 'c', 'c#', 'css', 'html', 'java', 'php', 'python']\n"
     ]
    }
   ],
   "source": [
    "fruits=[\"apple\",\"banana\",\"strawberry\",\"mango\"]\n",
    "print(len(fruits))\n",
    "\n",
    "#fruits[0]=fruits[-4]\n",
    "fruits.append(\"orange\")\n",
    "print(fruits)\n",
    "\n",
    "first_f, sec_f, third_f, *rest=fruits #indexlere atıyor.\n",
    "print(first_f)\n",
    "print(sec_f)\n",
    "print(third_f)\n",
    "\n",
    "fruits.remove(\"banana\")\n",
    "print(fruits)\n",
    "\n",
    "fruits.pop() #push&pop!! son indexi kaldırır.\n",
    "print(fruits)\n",
    "\n",
    "\n",
    "del fruits[2]\n",
    "print(fruits)\n",
    "\n",
    "progs=[\"c\",\"python\",\"assembly\",\"java\"]\n",
    "prog2=progs.copy()\n",
    "print(prog2)\n",
    "program=[\"c#\",\"html\",\"css\",\"php\"]\n",
    "prog3=progs+program #or progs.extend(prog2)\n",
    "print(prog3)\n",
    "print(prog3.count(\"c\"))\n",
    "print(sorted(prog3))#sorted in alphabetical\n"
   ]
  },
  {
   "cell_type": "code",
   "execution_count": 7,
   "id": "0a618565",
   "metadata": {},
   "outputs": [
    {
     "name": "stdout",
     "output_type": "stream",
     "text": [
      "1\n",
      "2\n",
      "3\n",
      "4\n",
      "5\n",
      "6\n",
      "7\n",
      "8\n",
      "9\n",
      "m\n",
      "a\n",
      "c\n",
      "h\n",
      "i\n",
      "n\n",
      "e\n",
      " \n",
      "l\n",
      "e\n",
      "a\n",
      "r\n",
      "n\n",
      "i\n",
      "n\n",
      "g\n"
     ]
    }
   ],
   "source": [
    "for i in range (1,10):\n",
    "    \n",
    "    print(i) \n",
    "\n",
    "for i in \"machine learning\":\n",
    "    \n",
    "    print(i)"
   ]
  },
  {
   "cell_type": "code",
   "execution_count": 14,
   "id": "e6dc972b",
   "metadata": {},
   "outputs": [
    {
     "data": {
      "text/plain": [
       "20"
      ]
     },
     "execution_count": 14,
     "metadata": {},
     "output_type": "execute_result"
    }
   ],
   "source": [
    "list=[2,4,6,8]\n",
    "sum(list)"
   ]
  },
  {
   "cell_type": "code",
   "execution_count": 15,
   "id": "9ecac18a",
   "metadata": {},
   "outputs": [
    {
     "data": {
      "text/plain": [
       "2"
      ]
     },
     "execution_count": 15,
     "metadata": {},
     "output_type": "execute_result"
    }
   ],
   "source": [
    "min(list)"
   ]
  },
  {
   "cell_type": "code",
   "execution_count": 16,
   "id": "e87799ae",
   "metadata": {},
   "outputs": [
    {
     "name": "stdout",
     "output_type": "stream",
     "text": [
      "Enter your age:30\n",
      "You are 7 years older than me.\n"
     ]
    }
   ],
   "source": [
    "my_age=23\n",
    "your_age=(int(input(\"Enter your age:\")))\n",
    "if my_age > your_age:\n",
    "    ca=my_age-your_age\n",
    "    print(\"I am %d years older than you.\"%ca)\n",
    "elif my_age==your_age:\n",
    "    print(\"We are same age.\")\n",
    "else:\n",
    "    ca=your_age-my_age\n",
    "    print(\"You are %d years older than me.\"%ca)"
   ]
  },
  {
   "cell_type": "code",
   "execution_count": 17,
   "id": "892648f2",
   "metadata": {},
   "outputs": [
    {
     "name": "stdout",
     "output_type": "stream",
     "text": [
      "Enter the month: August\n",
      "The season is Autumn.\n"
     ]
    }
   ],
   "source": [
    "year=(input(\"Enter the month: \"))\n",
    "if \"September\"or \"October\" or \"November\":\n",
    "    print(\"The season is Autumn.\")\n",
    "elif \"December\" or \"January\" or \"February\":\n",
    "    print(\"The season is Winter.\")\n",
    "elif \"March\" or \"April\" or \"May\":\n",
    "    print(\"The season is Spring.\")\n",
    "elif \"June\" or \"July\" or \"August\":\n",
    "    print(\"The season is Summer.\")\n",
    "else:\n",
    "    print(\"Please enter a month.\")\n",
    "    "
   ]
  },
  {
   "cell_type": "code",
   "execution_count": 18,
   "id": "8c6887fc",
   "metadata": {},
   "outputs": [
    {
     "name": "stdout",
     "output_type": "stream",
     "text": [
      "A is zero\n"
     ]
    }
   ],
   "source": [
    "a = 0\n",
    "if a > 0 and a % 2 == 0:\n",
    "        print('A is an even and positive integer')\n",
    "elif a > 0 and a % 2 !=  0:\n",
    "     print('A is a positive integer')\n",
    "elif a == 0:\n",
    "    print('A is zero')\n",
    "else:\n",
    "    print('A is negative')\n",
    "    "
   ]
  },
  {
   "cell_type": "code",
   "execution_count": 19,
   "id": "4c29d18f",
   "metadata": {},
   "outputs": [
    {
     "name": "stdout",
     "output_type": "stream",
     "text": [
      "evet\n"
     ]
    }
   ],
   "source": [
    "dictionary = {\"lemon\":\"yellow\", \"six\":6, \"is_student\":True}\n",
    "\n",
    "keys = dictionary.keys()\n",
    "if \"lemon\" in keys:\n",
    "    \n",
    "    print(\"evet\")\n",
    "\n",
    "else:\n",
    "    print(\"hayır\")"
   ]
  },
  {
   "cell_type": "code",
   "execution_count": 20,
   "id": "5c728390",
   "metadata": {},
   "outputs": [
    {
     "name": "stdout",
     "output_type": "stream",
     "text": [
      "hayır\n"
     ]
    }
   ],
   "source": [
    "if \"orange\" in keys:\n",
    "    \n",
    "    print(\"evet\")\n",
    "\n",
    "else:\n",
    "    print(\"hayır\")"
   ]
  },
  {
   "cell_type": "code",
   "execution_count": 21,
   "id": "b32d3b0a",
   "metadata": {},
   "outputs": [
    {
     "name": "stdout",
     "output_type": "stream",
     "text": [
      "314.0\n"
     ]
    }
   ],
   "source": [
    "def area_of_circle (r):\n",
    "    PI = 3.14\n",
    "    area = PI * r ** 2\n",
    "    return area\n",
    "print(area_of_circle(10))"
   ]
  },
  {
   "cell_type": "code",
   "execution_count": 22,
   "id": "e4e4a113",
   "metadata": {},
   "outputs": [
    {
     "name": "stdout",
     "output_type": "stream",
     "text": [
      "9\n"
     ]
    }
   ],
   "source": [
    "def square_number (n):\n",
    "    return n * n\n",
    "def do_something(f, x):\n",
    "    return f(x)\n",
    "print(do_something(square_number, 3))"
   ]
  },
  {
   "cell_type": "code",
   "execution_count": 24,
   "id": "b8ae0869",
   "metadata": {},
   "outputs": [
    {
     "name": "stdout",
     "output_type": "stream",
     "text": [
      "0\n",
      "1\n",
      "2\n",
      "4\n",
      "5\n",
      "6\n",
      "7\n",
      "8\n",
      "9\n",
      "10\n"
     ]
    }
   ],
   "source": [
    "i = 0\n",
    "while i <= 10:\n",
    "    if i == 3:\n",
    "        i += 1\n",
    "        continue\n",
    "    print(i)\n",
    "    i += 1\n",
    "    "
   ]
  },
  {
   "cell_type": "code",
   "execution_count": 25,
   "id": "4685df82",
   "metadata": {},
   "outputs": [
    {
     "name": "stdout",
     "output_type": "stream",
     "text": [
      "0\n",
      "1\n",
      "2\n",
      "3\n",
      "4\n",
      "5\n",
      "6\n",
      "7\n",
      "8\n",
      "9\n",
      "10\n"
     ]
    }
   ],
   "source": [
    "count=0\n",
    "while count<10:\n",
    "   print(count)\n",
    "   count=count+1\n",
    "else:\n",
    "    print(count)"
   ]
  },
  {
   "cell_type": "code",
   "execution_count": null,
   "id": "a1043f35",
   "metadata": {},
   "outputs": [],
   "source": []
  }
 ],
 "metadata": {
  "kernelspec": {
   "display_name": "Python 3 (ipykernel)",
   "language": "python",
   "name": "python3"
  },
  "language_info": {
   "codemirror_mode": {
    "name": "ipython",
    "version": 3
   },
   "file_extension": ".py",
   "mimetype": "text/x-python",
   "name": "python",
   "nbconvert_exporter": "python",
   "pygments_lexer": "ipython3",
   "version": "3.11.2"
  }
 },
 "nbformat": 4,
 "nbformat_minor": 5
}
